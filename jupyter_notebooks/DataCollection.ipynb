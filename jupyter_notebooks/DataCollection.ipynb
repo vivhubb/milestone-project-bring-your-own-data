{
  "cells": [
    {
      "attachments": {},
      "cell_type": "markdown",
      "metadata": {
        "id": "0aStgWSO0E0E"
      },
      "source": [
        "# **DATA COLLECTION**"
      ]
    },
    {
      "attachments": {},
      "cell_type": "markdown",
      "metadata": {},
      "source": [
        "---"
      ]
    },
    {
      "attachments": {},
      "cell_type": "markdown",
      "metadata": {
        "id": "1eLEkw5O0ECa"
      },
      "source": [
        "## Objectives\n",
        "\n",
        "* Prepare data for further processing.\n",
        "\n",
        "## Inputs\n",
        "\n",
        "This dataset contains information about used motorcycles.\n",
        "This data can be used for a lot of purposes such as price prediction to exemplify the use of linear regression in Machine Learning.\n",
        "The columns in the given dataset are as follows:\n",
        "\n",
        "1. name\n",
        "2. selling price\n",
        "3. year\n",
        "4. seller type\n",
        "5. owner\n",
        "6. km driven\n",
        "7. ex showroom price \n",
        "\n",
        "## Outputs\n",
        "\n",
        "* Generate dataset:\n",
        "\n",
        "1. training data\n",
        "2. validation data\n",
        "3. testing data\n",
        "\n",
        "## Additional Comments\n",
        "\n",
        "* https://www.kaggle.com/datasets/nehalbirla/motorcycle-dataset \n"
      ]
    },
    {
      "cell_type": "markdown",
      "metadata": {
        "id": "9uWZXH9LwoQg"
      },
      "source": [
        "---"
      ]
    },
    {
      "cell_type": "code",
      "execution_count": null,
      "metadata": {},
      "outputs": [],
      "source": [
        "! pip install -r ../requirements.txt"
      ]
    },
    {
      "attachments": {},
      "cell_type": "markdown",
      "metadata": {
        "id": "aOGIGS-uz3i2"
      },
      "source": [
        "## Import Python Libraries"
      ]
    },
    {
      "cell_type": "code",
      "execution_count": null,
      "metadata": {
        "id": "wZfF_j-Bz3i4",
        "outputId": "66943449-1436-4c3d-85c7-b85f9f78349b"
      },
      "outputs": [],
      "source": [
        "import os\n",
        "import os\n",
        "import pandas as pd\n",
        "import numpy as np\n",
        "import matplotlib.pyplot as plt"
      ]
    },
    {
      "attachments": {},
      "cell_type": "markdown",
      "metadata": {},
      "source": [
        "## Set and confirm working directory"
      ]
    },
    {
      "cell_type": "code",
      "execution_count": null,
      "metadata": {
        "id": "TwHsQRWjz3i9",
        "outputId": "86849db3-cd2f-4cc5-ebb8-2d0caafa1a2c"
      },
      "outputs": [],
      "source": [
        "current_dir = os.getcwd()\n",
        "current_dir"
      ]
    },
    {
      "cell_type": "code",
      "execution_count": null,
      "metadata": {},
      "outputs": [],
      "source": [
        "os.chdir(os.path.dirname(current_dir))\n",
        "current_dir = os.getcwd()\n",
        "current_dir"
      ]
    },
    {
      "attachments": {},
      "cell_type": "markdown",
      "metadata": {
        "id": "-mavJ8DibrcQ"
      },
      "source": [
        "# DATA PREPARATION"
      ]
    },
    {
      "attachments": {},
      "cell_type": "markdown",
      "metadata": {},
      "source": [
        "---"
      ]
    },
    {
      "attachments": {},
      "cell_type": "markdown",
      "metadata": {},
      "source": [
        "## Data Cleaning"
      ]
    },
    {
      "cell_type": "code",
      "execution_count": null,
      "metadata": {},
      "outputs": [],
      "source": [
        "data = pd.read_csv('data/data.csv')\n",
        "data = data.dropna()\n",
        "data.reset_index(inplace=True)"
      ]
    },
    {
      "attachments": {},
      "cell_type": "markdown",
      "metadata": {
        "id": "uFQo3ycuO-v6"
      },
      "source": [
        "## SPLIT train-validation-test SET"
      ]
    },
    {
      "cell_type": "code",
      "execution_count": null,
      "metadata": {},
      "outputs": [],
      "source": [
        "import os\n",
        "\n",
        "def split_train_validation_test_images(my_data_dir, train_set_ratio, validation_set_ratio, test_set_ratio):\n",
        "\n",
        "    if train_set_ratio + validation_set_ratio + test_set_ratio != 1.0:\n",
        "        print(\"train_set_ratio + validation_set_ratio + test_set_ratio should sum to 1.0\")\n",
        "        return\n",
        "\n",
        "    if 'test' in os.listdir(my_data_dir):\n",
        "        pass\n",
        "    else:\n",
        "        ratio = 0\n",
        "        prev_ratio = 0\n",
        "\n",
        "        for folder in ['train', 'validation', 'test']:\n",
        "            os.makedirs(name=my_data_dir + '/' + folder )\n",
        "\n",
        "            if folder == 'train':\n",
        "                ratio = data.shape[0] - int((data.shape[0] * train_set_ratio))\n",
        "            elif folder == 'validation':\n",
        "                ratio = data.shape[0] - int((data.shape[0] * validation_set_ratio))                \n",
        "            else:\n",
        "                ratio = data.shape[0] - int((data.shape[0] * test_set_ratio))\n",
        "\n",
        "            with open(my_data_dir + f'/{folder}/{folder}.csv', 'w') as f:\n",
        "                f.write(','.join(list(data.keys()[1:])) + '\\n')\n",
        "\n",
        "                for line in [x[1:] for x in data.values.tolist()[prev_ratio: prev_ratio + ratio]]:\n",
        "                    f.write(','.join([str(x) for x in line]) + '\\n')\n",
        "\n",
        "\n",
        "            prev_ratio = ratio\n",
        "\n",
        "split_train_validation_test_images(current_dir + '/data', 0.1, 0.1, 0.8)"
      ]
    }
  ],
  "metadata": {
    "accelerator": "GPU",
    "colab": {
      "name": "Data Practitioner Jupyter Notebook.ipynb",
      "provenance": [],
      "toc_visible": true
    },
    "interpreter": {
      "hash": "8b8334dab9339717f727a1deaf837b322d7a41c20d15cc86be99a8e69ceec8ce"
    },
    "kernelspec": {
      "display_name": "Python 3 (ipykernel)",
      "language": "python",
      "name": "python3"
    },
    "language_info": {
      "codemirror_mode": {
        "name": "ipython",
        "version": 3
      },
      "file_extension": ".py",
      "mimetype": "text/x-python",
      "name": "python",
      "nbconvert_exporter": "python",
      "pygments_lexer": "ipython3",
      "version": "3.10.4"
    },
    "orig_nbformat": 2
  },
  "nbformat": 4,
  "nbformat_minor": 2
}
