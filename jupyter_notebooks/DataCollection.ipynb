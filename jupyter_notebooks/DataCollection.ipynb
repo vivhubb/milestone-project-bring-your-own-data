{
  "cells": [
    {
      "attachments": {},
      "cell_type": "markdown",
      "metadata": {
        "id": "0aStgWSO0E0E"
      },
      "source": [
        "# **DATA COLLECTION**"
      ]
    },
    {
      "attachments": {},
      "cell_type": "markdown",
      "metadata": {},
      "source": [
        "---"
      ]
    },
    {
      "attachments": {},
      "cell_type": "markdown",
      "metadata": {
        "id": "1eLEkw5O0ECa"
      },
      "source": [
        "## Objectives\n",
        "\n",
        "* Prepare data for further processing.\n",
        "\n",
        "## Inputs\n",
        "\n",
        "This dataset contains information about used motorcycles.\n",
        "This data can be used for a lot of purposes such as price prediction to exemplify the use of linear regression in Machine Learning.\n",
        "The columns in the given dataset are as follows:\n",
        "\n",
        "1. name\n",
        "2. selling price\n",
        "3. year\n",
        "4. seller type\n",
        "5. owner\n",
        "6. km driven\n",
        "7. ex showroom price \n",
        "\n",
        "## Outputs\n",
        "\n",
        "* Generate dataset:\n",
        "\n",
        "1. training data\n",
        "2. validation data\n",
        "3. testing data\n",
        "\n",
        "## Additional Comments\n",
        "\n",
        "* https://www.kaggle.com/datasets/nehalbirla/motorcycle-dataset \n"
      ]
    },
    {
      "cell_type": "markdown",
      "metadata": {
        "id": "9uWZXH9LwoQg"
      },
      "source": [
        "---"
      ]
    },
    {
      "cell_type": "code",
      "execution_count": 2,
      "metadata": {},
      "outputs": [
        {
          "name": "stdout",
          "output_type": "stream",
          "text": [
            "Requirement already satisfied: streamlit==0.85.0 in /home/codespace/.local/lib/python3.10/site-packages (from -r ../requirements.txt (line 2)) (0.85.0)\n",
            "Requirement already satisfied: protobuf!=3.11,>=3.6.0 in /home/codespace/.local/lib/python3.10/site-packages (from streamlit==0.85.0->-r ../requirements.txt (line 2)) (4.22.1)\n",
            "Requirement already satisfied: base58 in /home/codespace/.local/lib/python3.10/site-packages (from streamlit==0.85.0->-r ../requirements.txt (line 2)) (2.1.1)\n",
            "Requirement already satisfied: python-dateutil in /home/codespace/.local/lib/python3.10/site-packages (from streamlit==0.85.0->-r ../requirements.txt (line 2)) (2.8.2)\n",
            "Requirement already satisfied: packaging in /home/codespace/.local/lib/python3.10/site-packages (from streamlit==0.85.0->-r ../requirements.txt (line 2)) (23.0)\n",
            "Requirement already satisfied: altair>=3.2.0 in /home/codespace/.local/lib/python3.10/site-packages (from streamlit==0.85.0->-r ../requirements.txt (line 2)) (4.2.2)\n",
            "Requirement already satisfied: pillow>=6.2.0 in /home/codespace/.local/lib/python3.10/site-packages (from streamlit==0.85.0->-r ../requirements.txt (line 2)) (9.5.0)\n",
            "Requirement already satisfied: tornado>=5.0 in /home/codespace/.local/lib/python3.10/site-packages (from streamlit==0.85.0->-r ../requirements.txt (line 2)) (6.2)\n",
            "Requirement already satisfied: blinker in /home/codespace/.local/lib/python3.10/site-packages (from streamlit==0.85.0->-r ../requirements.txt (line 2)) (1.6.1)\n",
            "Requirement already satisfied: pydeck>=0.1.dev5 in /home/codespace/.local/lib/python3.10/site-packages (from streamlit==0.85.0->-r ../requirements.txt (line 2)) (0.8.0)\n",
            "Requirement already satisfied: astor in /home/codespace/.local/lib/python3.10/site-packages (from streamlit==0.85.0->-r ../requirements.txt (line 2)) (0.8.1)\n",
            "Requirement already satisfied: requests in /home/codespace/.local/lib/python3.10/site-packages (from streamlit==0.85.0->-r ../requirements.txt (line 2)) (2.28.2)\n",
            "Requirement already satisfied: numpy in /home/codespace/.local/lib/python3.10/site-packages (from streamlit==0.85.0->-r ../requirements.txt (line 2)) (1.24.2)\n",
            "Requirement already satisfied: toml in /home/codespace/.local/lib/python3.10/site-packages (from streamlit==0.85.0->-r ../requirements.txt (line 2)) (0.10.2)\n",
            "Requirement already satisfied: tzlocal in /home/codespace/.local/lib/python3.10/site-packages (from streamlit==0.85.0->-r ../requirements.txt (line 2)) (4.3)\n",
            "Requirement already satisfied: watchdog in /home/codespace/.local/lib/python3.10/site-packages (from streamlit==0.85.0->-r ../requirements.txt (line 2)) (3.0.0)\n",
            "Requirement already satisfied: click<8.0,>=7.0 in /home/codespace/.local/lib/python3.10/site-packages (from streamlit==0.85.0->-r ../requirements.txt (line 2)) (7.1.2)\n",
            "Requirement already satisfied: pyarrow in /home/codespace/.local/lib/python3.10/site-packages (from streamlit==0.85.0->-r ../requirements.txt (line 2)) (11.0.0)\n",
            "Requirement already satisfied: cachetools>=4.0 in /home/codespace/.local/lib/python3.10/site-packages (from streamlit==0.85.0->-r ../requirements.txt (line 2)) (5.3.0)\n",
            "Requirement already satisfied: pandas>=0.21.0 in /home/codespace/.local/lib/python3.10/site-packages (from streamlit==0.85.0->-r ../requirements.txt (line 2)) (2.0.0)\n",
            "Requirement already satisfied: gitpython in /home/codespace/.local/lib/python3.10/site-packages (from streamlit==0.85.0->-r ../requirements.txt (line 2)) (3.1.31)\n",
            "Requirement already satisfied: attrs in /home/codespace/.local/lib/python3.10/site-packages (from streamlit==0.85.0->-r ../requirements.txt (line 2)) (22.2.0)\n",
            "Requirement already satisfied: validators in /home/codespace/.local/lib/python3.10/site-packages (from streamlit==0.85.0->-r ../requirements.txt (line 2)) (0.18.2)\n",
            "Requirement already satisfied: jsonschema>=3.0 in /home/codespace/.local/lib/python3.10/site-packages (from altair>=3.2.0->streamlit==0.85.0->-r ../requirements.txt (line 2)) (4.17.3)\n",
            "Requirement already satisfied: entrypoints in /home/codespace/.local/lib/python3.10/site-packages (from altair>=3.2.0->streamlit==0.85.0->-r ../requirements.txt (line 2)) (0.4)\n",
            "Requirement already satisfied: jinja2 in /home/codespace/.local/lib/python3.10/site-packages (from altair>=3.2.0->streamlit==0.85.0->-r ../requirements.txt (line 2)) (3.1.2)\n",
            "Requirement already satisfied: toolz in /home/codespace/.local/lib/python3.10/site-packages (from altair>=3.2.0->streamlit==0.85.0->-r ../requirements.txt (line 2)) (0.12.0)\n",
            "Requirement already satisfied: tzdata>=2022.1 in /home/codespace/.local/lib/python3.10/site-packages (from pandas>=0.21.0->streamlit==0.85.0->-r ../requirements.txt (line 2)) (2023.3)\n",
            "Requirement already satisfied: pytz>=2020.1 in /home/codespace/.local/lib/python3.10/site-packages (from pandas>=0.21.0->streamlit==0.85.0->-r ../requirements.txt (line 2)) (2023.3)\n",
            "Requirement already satisfied: six>=1.5 in /home/codespace/.local/lib/python3.10/site-packages (from python-dateutil->streamlit==0.85.0->-r ../requirements.txt (line 2)) (1.16.0)\n",
            "Requirement already satisfied: typing-extensions>=4.2 in /home/codespace/.local/lib/python3.10/site-packages (from blinker->streamlit==0.85.0->-r ../requirements.txt (line 2)) (4.5.0)\n",
            "Requirement already satisfied: gitdb<5,>=4.0.1 in /home/codespace/.local/lib/python3.10/site-packages (from gitpython->streamlit==0.85.0->-r ../requirements.txt (line 2)) (4.0.10)\n",
            "Requirement already satisfied: idna<4,>=2.5 in /home/codespace/.local/lib/python3.10/site-packages (from requests->streamlit==0.85.0->-r ../requirements.txt (line 2)) (3.4)\n",
            "Requirement already satisfied: certifi>=2017.4.17 in /home/codespace/.local/lib/python3.10/site-packages (from requests->streamlit==0.85.0->-r ../requirements.txt (line 2)) (2022.12.7)\n",
            "Requirement already satisfied: charset-normalizer<4,>=2 in /home/codespace/.local/lib/python3.10/site-packages (from requests->streamlit==0.85.0->-r ../requirements.txt (line 2)) (3.1.0)\n",
            "Requirement already satisfied: urllib3<1.27,>=1.21.1 in /home/codespace/.local/lib/python3.10/site-packages (from requests->streamlit==0.85.0->-r ../requirements.txt (line 2)) (1.26.15)\n",
            "Requirement already satisfied: pytz-deprecation-shim in /home/codespace/.local/lib/python3.10/site-packages (from tzlocal->streamlit==0.85.0->-r ../requirements.txt (line 2)) (0.1.0.post0)\n",
            "Requirement already satisfied: decorator>=3.4.0 in /home/codespace/.local/lib/python3.10/site-packages (from validators->streamlit==0.85.0->-r ../requirements.txt (line 2)) (5.1.1)\n",
            "Requirement already satisfied: smmap<6,>=3.0.1 in /home/codespace/.local/lib/python3.10/site-packages (from gitdb<5,>=4.0.1->gitpython->streamlit==0.85.0->-r ../requirements.txt (line 2)) (5.0.0)\n",
            "Requirement already satisfied: MarkupSafe>=2.0 in /home/codespace/.local/lib/python3.10/site-packages (from jinja2->altair>=3.2.0->streamlit==0.85.0->-r ../requirements.txt (line 2)) (2.1.2)\n",
            "Requirement already satisfied: pyrsistent!=0.17.0,!=0.17.1,!=0.17.2,>=0.14.0 in /home/codespace/.local/lib/python3.10/site-packages (from jsonschema>=3.0->altair>=3.2.0->streamlit==0.85.0->-r ../requirements.txt (line 2)) (0.19.3)\n"
          ]
        }
      ],
      "source": [
        "! pip install -r ../requirements.txt"
      ]
    },
    {
      "attachments": {},
      "cell_type": "markdown",
      "metadata": {
        "id": "aOGIGS-uz3i2"
      },
      "source": [
        "## Import Python libraries"
      ]
    },
    {
      "cell_type": "code",
      "execution_count": 3,
      "metadata": {
        "id": "wZfF_j-Bz3i4",
        "outputId": "66943449-1436-4c3d-85c7-b85f9f78349b"
      },
      "outputs": [],
      "source": [
        "import os\n",
        "import os\n",
        "import pandas as pd\n",
        "import numpy as np\n",
        "import matplotlib.pyplot as plt"
      ]
    },
    {
      "attachments": {},
      "cell_type": "markdown",
      "metadata": {},
      "source": [
        "# Change working directory"
      ]
    },
    {
      "cell_type": "code",
      "execution_count": 4,
      "metadata": {
        "id": "TwHsQRWjz3i9",
        "outputId": "86849db3-cd2f-4cc5-ebb8-2d0caafa1a2c"
      },
      "outputs": [
        {
          "data": {
            "text/plain": [
              "'/workspaces/milestone-project-bring-your-own-data/jupyter_notebooks'"
            ]
          },
          "execution_count": 4,
          "metadata": {},
          "output_type": "execute_result"
        }
      ],
      "source": [
        "current_dir = os.getcwd()\n",
        "current_dir\n",
        "\n",
        "os.chdir(os.path.dirname(current_dir))\n",
        "current_dir = os.getcwd()\n",
        "current_dir"
      ]
    },
    {
      "attachments": {},
      "cell_type": "markdown",
      "metadata": {
        "id": "-mavJ8DibrcQ"
      },
      "source": [
        "# DATA PREPARATION"
      ]
    },
    {
      "attachments": {},
      "cell_type": "markdown",
      "metadata": {},
      "source": [
        "---"
      ]
    },
    {
      "attachments": {},
      "cell_type": "markdown",
      "metadata": {},
      "source": [
        "## Data Cleaning"
      ]
    },
    {
      "cell_type": "code",
      "execution_count": 5,
      "metadata": {},
      "outputs": [],
      "source": [
        "data = pd.read_csv('data/data.csv')\n",
        "data = data.dropna()\n",
        "data.reset_index(inplace=True)"
      ]
    },
    {
      "attachments": {},
      "cell_type": "markdown",
      "metadata": {
        "id": "uFQo3ycuO-v6"
      },
      "source": [
        "## SPLIT train-validation-test SET"
      ]
    },
    {
      "cell_type": "code",
      "execution_count": 6,
      "metadata": {},
      "outputs": [
        {
          "ename": "FileNotFoundError",
          "evalue": "[Errno 2] No such file or directory: '/workspaces/milestone-project-bring-your-own-data/jupyter_notebooks/data'",
          "output_type": "error",
          "traceback": [
            "\u001b[0;31m---------------------------------------------------------------------------\u001b[0m",
            "\u001b[0;31mFileNotFoundError\u001b[0m                         Traceback (most recent call last)",
            "Cell \u001b[0;32mIn[6], line 34\u001b[0m\n\u001b[1;32m     29\u001b[0m                     f\u001b[39m.\u001b[39mwrite(\u001b[39m'\u001b[39m\u001b[39m,\u001b[39m\u001b[39m'\u001b[39m\u001b[39m.\u001b[39mjoin([\u001b[39mstr\u001b[39m(x) \u001b[39mfor\u001b[39;00m x \u001b[39min\u001b[39;00m line]) \u001b[39m+\u001b[39m \u001b[39m'\u001b[39m\u001b[39m\\n\u001b[39;00m\u001b[39m'\u001b[39m)\n\u001b[1;32m     32\u001b[0m             prev_ratio \u001b[39m=\u001b[39m ratio\n\u001b[0;32m---> 34\u001b[0m split_train_validation_test_images(current_dir \u001b[39m+\u001b[39;49m \u001b[39m'\u001b[39;49m\u001b[39m/data\u001b[39;49m\u001b[39m'\u001b[39;49m, \u001b[39m0.1\u001b[39;49m, \u001b[39m0.1\u001b[39;49m, \u001b[39m0.8\u001b[39;49m)\n",
            "Cell \u001b[0;32mIn[6], line 9\u001b[0m, in \u001b[0;36msplit_train_validation_test_images\u001b[0;34m(my_data_dir, train_set_ratio, validation_set_ratio, test_set_ratio)\u001b[0m\n\u001b[1;32m      6\u001b[0m     \u001b[39mprint\u001b[39m(\u001b[39m\"\u001b[39m\u001b[39mtrain_set_ratio + validation_set_ratio + test_set_ratio should sum to 1.0\u001b[39m\u001b[39m\"\u001b[39m)\n\u001b[1;32m      7\u001b[0m     \u001b[39mreturn\u001b[39;00m\n\u001b[0;32m----> 9\u001b[0m \u001b[39mif\u001b[39;00m \u001b[39m'\u001b[39m\u001b[39mtest\u001b[39m\u001b[39m'\u001b[39m \u001b[39min\u001b[39;00m os\u001b[39m.\u001b[39;49mlistdir(my_data_dir):\n\u001b[1;32m     10\u001b[0m     \u001b[39mpass\u001b[39;00m\n\u001b[1;32m     11\u001b[0m \u001b[39melse\u001b[39;00m:\n",
            "\u001b[0;31mFileNotFoundError\u001b[0m: [Errno 2] No such file or directory: '/workspaces/milestone-project-bring-your-own-data/jupyter_notebooks/data'"
          ]
        }
      ],
      "source": [
        "import os\n",
        "\n",
        "def split_train_validation_test_images(my_data_dir, train_set_ratio, validation_set_ratio, test_set_ratio):\n",
        "\n",
        "    if train_set_ratio + validation_set_ratio + test_set_ratio != 1.0:\n",
        "        print(\"train_set_ratio + validation_set_ratio + test_set_ratio should sum to 1.0\")\n",
        "        return\n",
        "\n",
        "    if 'test' in os.listdir(my_data_dir):\n",
        "        pass\n",
        "    else:\n",
        "        ratio = 0\n",
        "        prev_ratio = 0\n",
        "\n",
        "        for folder in ['train', 'validation', 'test']:\n",
        "            os.makedirs(name=my_data_dir + '/' + folder )\n",
        "\n",
        "            if folder == 'train':\n",
        "                ratio = data.shape[0] - int((data.shape[0] * train_set_ratio))\n",
        "            elif folder == 'validation':\n",
        "                ratio = data.shape[0] - int((data.shape[0] * validation_set_ratio))                \n",
        "            else:\n",
        "                ratio = data.shape[0] - int((data.shape[0] * test_set_ratio))\n",
        "\n",
        "            with open(my_data_dir + f'/{folder}/{folder}.csv', 'w') as f:\n",
        "                f.write(','.join(list(data.keys()[1:])) + '\\n')\n",
        "\n",
        "                for line in [x[1:] for x in data.values.tolist()[prev_ratio: prev_ratio + ratio]]:\n",
        "                    f.write(','.join([str(x) for x in line]) + '\\n')\n",
        "\n",
        "\n",
        "            prev_ratio = ratio\n",
        "\n",
        "split_train_validation_test_images(current_dir + '/data', 0.1, 0.1, 0.8)"
      ]
    }
  ],
  "metadata": {
    "accelerator": "GPU",
    "colab": {
      "name": "Data Practitioner Jupyter Notebook.ipynb",
      "provenance": [],
      "toc_visible": true
    },
    "interpreter": {
      "hash": "8b8334dab9339717f727a1deaf837b322d7a41c20d15cc86be99a8e69ceec8ce"
    },
    "kernelspec": {
      "display_name": "Python 3 (ipykernel)",
      "language": "python",
      "name": "python3"
    },
    "language_info": {
      "codemirror_mode": {
        "name": "ipython",
        "version": 3
      },
      "file_extension": ".py",
      "mimetype": "text/x-python",
      "name": "python",
      "nbconvert_exporter": "python",
      "pygments_lexer": "ipython3",
      "version": "3.10.4"
    },
    "orig_nbformat": 2
  },
  "nbformat": 4,
  "nbformat_minor": 2
}
