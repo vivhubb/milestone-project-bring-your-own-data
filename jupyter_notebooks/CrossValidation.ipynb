{
 "cells": [
  {
   "attachments": {},
   "cell_type": "markdown",
   "metadata": {},
   "source": [
    "# Cross Validation and Correlation studies"
   ]
  },
  {
   "cell_type": "code",
   "execution_count": 1,
   "metadata": {},
   "outputs": [],
   "source": [
    "import os\n",
    "import re\n",
    "import numpy as np\n",
    "import pandas as pd\n",
    "import seaborn as sns\n",
    "import matplotlib.pyplot as plt\n",
    "import plotly.express as px\n",
    "import plotly.graph_objects as go"
   ]
  },
  {
   "cell_type": "markdown",
   "metadata": {},
   "source": [
    "## Set and confirm working directory"
   ]
  },
  {
   "cell_type": "code",
   "execution_count": 2,
   "metadata": {},
   "outputs": [
    {
     "data": {
      "text/plain": [
       "'/workspace/portfolio-project-5-price-predictor/jupyter_notebooks'"
      ]
     },
     "execution_count": 2,
     "metadata": {},
     "output_type": "execute_result"
    }
   ],
   "source": [
    "current_dir = os.getcwd()\n",
    "current_dir"
   ]
  },
  {
   "cell_type": "code",
   "execution_count": 3,
   "metadata": {},
   "outputs": [
    {
     "data": {
      "text/plain": [
       "'/workspace/portfolio-project-5-price-predictor'"
      ]
     },
     "execution_count": 3,
     "metadata": {},
     "output_type": "execute_result"
    }
   ],
   "source": [
    "os.chdir(os.path.dirname(current_dir))\n",
    "current_dir = os.getcwd()\n",
    "current_dir"
   ]
  },
  {
   "cell_type": "code",
   "execution_count": 9,
   "metadata": {},
   "outputs": [],
   "source": [
    "def load_data(path):\n",
    "    data = pd.read_csv(path)\n",
    "    data['ex_showroom_price'].fillna(value=data['ex_showroom_price'].mean(), inplace=True)\n",
    "\n",
    "    return data\n",
    "\n",
    "# build_correlatin_matrix & corr_matrix_heatmap code built based on\n",
    "# https://github.com/faridjos/milestone-project-heritage-housing-issues/blob/main/jupyter_notebooks/HouseSalePrices.ipynb\n",
    "df = load_data('data/data.csv')\n",
    "owner_count = np.array(list(map(lambda x: re.search('[0-9]*', x).group(0), df['owner'].values)))\n",
    "df['owner'] = owner_count\n",
    "df.drop(columns=['name', 'seller_type'], inplace=True)\n",
    "lst = []\n",
    "# Remove first zeros and missing values\n",
    "for col in df.columns[df.dtypes!='object'].to_list():\n",
    "    if col != 'selling_price':\n",
    "        df1 = df[df[col]!=0]\n",
    "        df2 = df1[df1[col].notnull()]\n",
    "        df3 = df2.filter(['selling_price', col])\n",
    "        corr_spearman = df3.corr(method='spearman')['selling_price'][1:].round(2)\n",
    "        lst.append(corr_spearman[col])\n",
    "corr_num = pd.Series(index=df.columns[df.dtypes!='object'].drop(['selling_price']).to_list(), data=lst).sort_values(key=abs, ascending=False)\n",
    "corr_num\n",
    "\n",
    "lst = []\n",
    "for col in df.columns[df.dtypes=='object'].to_list():\n",
    "    df1 = df[df[col]!='None']\n",
    "    df2 = df1[df1[col].notnull()]\n",
    "    df4 = df2.filter(['selling_price', col])\n",
    "    corr_spearman = df4.corr(method='spearman')['selling_price'][1:].round(2)\n",
    "    lst.append(corr_spearman[col])\n",
    "    corr_object = pd.Series(index=df.columns[df.dtypes=='object'].to_list(), data=lst).sort_values(key=abs, ascending=False)\n",
    "\n",
    "corr = pd.concat([corr_num, corr_object]).sort_values(key=abs, ascending=False).round(2)\n",
    "corr_df = pd.DataFrame(index=['selling_price'], columns=corr.index, data=corr.values.reshape(1,-1).tolist())\n",
    "corr_df_rev = corr_df[corr_df.columns[::-1]]"
   ]
  },
  {
   "cell_type": "code",
   "execution_count": 10,
   "metadata": {},
   "outputs": [
    {
     "data": {
      "text/plain": [
       "year                 0.70\n",
       "km_driven           -0.56\n",
       "ex_showroom_price    0.43\n",
       "dtype: float64"
      ]
     },
     "execution_count": 10,
     "metadata": {},
     "output_type": "execute_result"
    }
   ],
   "source": [
    "corr_num"
   ]
  },
  {
   "cell_type": "code",
   "execution_count": 11,
   "metadata": {},
   "outputs": [
    {
     "data": {
      "text/plain": [
       "owner   -0.11\n",
       "dtype: float64"
      ]
     },
     "execution_count": 11,
     "metadata": {},
     "output_type": "execute_result"
    }
   ],
   "source": [
    "corr_object"
   ]
  },
  {
   "cell_type": "code",
   "execution_count": 12,
   "metadata": {},
   "outputs": [
    {
     "data": {
      "text/html": [
       "<div>\n",
       "<style scoped>\n",
       "    .dataframe tbody tr th:only-of-type {\n",
       "        vertical-align: middle;\n",
       "    }\n",
       "\n",
       "    .dataframe tbody tr th {\n",
       "        vertical-align: top;\n",
       "    }\n",
       "\n",
       "    .dataframe thead th {\n",
       "        text-align: right;\n",
       "    }\n",
       "</style>\n",
       "<table border=\"1\" class=\"dataframe\">\n",
       "  <thead>\n",
       "    <tr style=\"text-align: right;\">\n",
       "      <th></th>\n",
       "      <th>owner</th>\n",
       "      <th>ex_showroom_price</th>\n",
       "      <th>km_driven</th>\n",
       "      <th>year</th>\n",
       "    </tr>\n",
       "  </thead>\n",
       "  <tbody>\n",
       "    <tr>\n",
       "      <th>selling_price</th>\n",
       "      <td>-0.11</td>\n",
       "      <td>0.43</td>\n",
       "      <td>-0.56</td>\n",
       "      <td>0.7</td>\n",
       "    </tr>\n",
       "  </tbody>\n",
       "</table>\n",
       "</div>"
      ],
      "text/plain": [
       "               owner  ex_showroom_price  km_driven  year\n",
       "selling_price  -0.11               0.43      -0.56   0.7"
      ]
     },
     "execution_count": 12,
     "metadata": {},
     "output_type": "execute_result"
    }
   ],
   "source": [
    "corr_df_rev"
   ]
  },
  {
   "cell_type": "code",
   "execution_count": 8,
   "metadata": {},
   "outputs": [
    {
     "data": {
      "text/plain": [
       "<Axes: >"
      ]
     },
     "execution_count": 8,
     "metadata": {},
     "output_type": "execute_result"
    },
    {
     "data": {
      "image/png": "[encoded data removed]",
      "text/plain": [
       "<Figure size 1500x600 with 2 Axes>"
      ]
     },
     "metadata": {},
     "output_type": "display_data"
    }
   ],
   "source": [
    "# correlation matrix heatmap\n",
    "fig, axes = plt.subplots(figsize=(15,6))\n",
    "annot_size = 8\n",
    "\n",
    "# Retain only correlation values above 0.4\n",
    "mask = np.zeros_like(corr_df_rev, dtype=np.bool_)\n",
    "mask[corr_df_rev.abs() < 0.4] = True\n",
    "\n",
    "sns.heatmap(data=corr_df_rev, annot=True, xticklabels=True, yticklabels=True,\n",
    "            mask=mask, annot_kws={\"size\": annot_size}, ax=axes,\n",
    "            linewidth=0.5)"
   ]
  },
  {
   "cell_type": "code",
   "execution_count": null,
   "metadata": {},
   "outputs": [],
   "source": []
  }
 ],
 "metadata": {
  "kernelspec": {
   "display_name": "Python 3",
   "language": "python",
   "name": "python3"
  },
  "language_info": {
   "codemirror_mode": {
    "name": "ipython",
    "version": 3
   },
   "file_extension": ".py",
   "mimetype": "text/x-python",
   "name": "python",
   "nbconvert_exporter": "python",
   "pygments_lexer": "ipython3",
   "version": "3.11.1"
  },
  "orig_nbformat": 4
 },
 "nbformat": 4,
 "nbformat_minor": 2
}
